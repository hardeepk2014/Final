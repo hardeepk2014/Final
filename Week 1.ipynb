{
    "cells": [
        {
            "attachments": {},
            "cell_type": "markdown",
            "metadata": {
                "collapsed": true
            },
            "source": "Problem and a Discussion of the Background:\n\n\nAccording to SF weekley, S.F. Falls to 34th Best City in the World to Live in and San Francisco has the most of the tech companies in the US. With Tech sector growing, the average salary is increasing in the SF and that is causing the rent to go up. Friend of mine has accepted a job in San Francisco, CA. This Friend is not familiar with the area and is moving from out of state. For this project, I will help him decided which neigborhood is best to move in at reasonable price. \n\n\nData and how it will be used to solve the problem:\nWe will be using this data to get the neighbor information http://www.healthysf.org/bdi/outcomes/zipmap.htm\nWe will be using the housing data from Zallow https://www.zillow.com/research/data/\n"
        },
        {
            "cell_type": "code",
            "execution_count": null,
            "metadata": {},
            "outputs": [],
            "source": ""
        }
    ],
    "metadata": {
        "kernelspec": {
            "display_name": "Python 3.6",
            "language": "python",
            "name": "python3"
        },
        "language_info": {
            "codemirror_mode": {
                "name": "ipython",
                "version": 3
            },
            "file_extension": ".py",
            "mimetype": "text/x-python",
            "name": "python",
            "nbconvert_exporter": "python",
            "pygments_lexer": "ipython3",
            "version": "3.6.9"
        }
    },
    "nbformat": 4,
    "nbformat_minor": 1
}