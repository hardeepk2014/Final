{
    "cells": [
        {
            "cell_type": "code",
            "execution_count": 1,
            "metadata": {},
            "outputs": [],
            "source": "import pandas as pd\nimport numpy as np\nimport requests\nfrom bs4 import BeautifulSoup\nimport matplotlib.cm as cm\nimport matplotlib.colors as colors"
        },
        {
            "cell_type": "code",
            "execution_count": 2,
            "metadata": {},
            "outputs": [
                {
                    "data": {
                        "text/html": "<div>\n<style scoped>\n    .dataframe tbody tr th:only-of-type {\n        vertical-align: middle;\n    }\n\n    .dataframe tbody tr th {\n        vertical-align: top;\n    }\n\n    .dataframe thead th {\n        text-align: right;\n    }\n</style>\n<table border=\"1\" class=\"dataframe\">\n  <thead>\n    <tr style=\"text-align: right;\">\n      <th></th>\n      <th>Zip Code</th>\n      <th>Neighborhood</th>\n    </tr>\n  </thead>\n  <tbody>\n    <tr>\n      <th>3</th>\n      <td>94107</td>\n      <td>Potrero Hill</td>\n    </tr>\n    <tr>\n      <th>17</th>\n      <td>94127</td>\n      <td>St. Francis Wood/Miraloma/West Portal</td>\n    </tr>\n    <tr>\n      <th>15</th>\n      <td>94123</td>\n      <td>Marina</td>\n    </tr>\n    <tr>\n      <th>2</th>\n      <td>94103</td>\n      <td>South of Market</td>\n    </tr>\n    <tr>\n      <th>19</th>\n      <td>94132</td>\n      <td>Lake Merced</td>\n    </tr>\n  </tbody>\n</table>\n</div>",
                        "text/plain": "0  Zip Code                           Neighborhood\n3     94107                           Potrero Hill\n17    94127  St. Francis Wood/Miraloma/West Portal\n15    94123                                 Marina\n2     94103                        South of Market\n19    94132                            Lake Merced"
                    },
                    "execution_count": 2,
                    "metadata": {},
                    "output_type": "execute_result"
                }
            ],
            "source": "SF = requests.get(\"http://www.healthysf.org/bdi/outcomes/zipmap.htm\")\nsoup = BeautifulSoup(SF.text, \"lxml\")\ntable = soup.find_all(\"table\")\ndf = pd.read_html(str(table))\ndf = pd.DataFrame(df[4])\ndf.columns = df.iloc[0]\n# Sort neighborhoods by population\ndf.sort_values(by=['Population (Census 2000)'], inplace=True)\ndf = df.iloc[1:-1, :-1]\ndf_sf = df\ndf_sf.head()"
        },
        {
            "cell_type": "code",
            "execution_count": 5,
            "metadata": {},
            "outputs": [
                {
                    "name": "stdout",
                    "output_type": "stream",
                    "text": "Collecting uszipcode\n\u001b[?25l  Downloading https://files.pythonhosted.org/packages/bc/94/1b908c6fe2008f0e913b0b2d97951aa76e00ec1044883c012afb2e477b4a/uszipcode-0.2.4-py2.py3-none-any.whl (378kB)\n\u001b[K     |\u2588\u2588\u2588\u2588\u2588\u2588\u2588\u2588\u2588\u2588\u2588\u2588\u2588\u2588\u2588\u2588\u2588\u2588\u2588\u2588\u2588\u2588\u2588\u2588\u2588\u2588\u2588\u2588\u2588\u2588\u2588\u2588| 378kB 9.0MB/s eta 0:00:01\n\u001b[?25hCollecting pathlib-mate (from uszipcode)\n\u001b[?25l  Downloading https://files.pythonhosted.org/packages/ee/90/b414af97dea2b4f98b0cebaa69ec02eacca82e6b1ba18632c5927f01591a/pathlib_mate-1.0.0-py2.py3-none-any.whl (77kB)\n\u001b[K     |\u2588\u2588\u2588\u2588\u2588\u2588\u2588\u2588\u2588\u2588\u2588\u2588\u2588\u2588\u2588\u2588\u2588\u2588\u2588\u2588\u2588\u2588\u2588\u2588\u2588\u2588\u2588\u2588\u2588\u2588\u2588\u2588| 81kB 19.8MB/s eta 0:00:01\n\u001b[?25hRequirement already satisfied: sqlalchemy in /opt/conda/envs/Python36/lib/python3.6/site-packages (from uszipcode) (1.2.18)\nRequirement already satisfied: attrs in /opt/conda/envs/Python36/lib/python3.6/site-packages (from uszipcode) (18.2.0)\nRequirement already satisfied: requests in /opt/conda/envs/Python36/lib/python3.6/site-packages (from uszipcode) (2.21.0)\nCollecting autopep8 (from pathlib-mate->uszipcode)\n\u001b[?25l  Downloading https://files.pythonhosted.org/packages/41/5b/3bd26811d311ae0b819487a3d97557ca0181de1c49a8dca1ab2c8dfac4f6/autopep8-1.5.2.tar.gz (117kB)\n\u001b[K     |\u2588\u2588\u2588\u2588\u2588\u2588\u2588\u2588\u2588\u2588\u2588\u2588\u2588\u2588\u2588\u2588\u2588\u2588\u2588\u2588\u2588\u2588\u2588\u2588\u2588\u2588\u2588\u2588\u2588\u2588\u2588\u2588| 122kB 12.3MB/s eta 0:00:01\n\u001b[?25hRequirement already satisfied: six in /opt/conda/envs/Python36/lib/python3.6/site-packages (from pathlib-mate->uszipcode) (1.12.0)\nRequirement already satisfied: idna<2.9,>=2.5 in /opt/conda/envs/Python36/lib/python3.6/site-packages (from requests->uszipcode) (2.8)\nRequirement already satisfied: chardet<3.1.0,>=3.0.2 in /opt/conda/envs/Python36/lib/python3.6/site-packages (from requests->uszipcode) (3.0.4)\nRequirement already satisfied: urllib3<1.25,>=1.21.1 in /opt/conda/envs/Python36/lib/python3.6/site-packages (from requests->uszipcode) (1.24.1)\nRequirement already satisfied: certifi>=2017.4.17 in /opt/conda/envs/Python36/lib/python3.6/site-packages (from requests->uszipcode) (2020.4.5.1)\nRequirement already satisfied: pycodestyle>=2.5.0 in /opt/conda/envs/Python36/lib/python3.6/site-packages (from autopep8->pathlib-mate->uszipcode) (2.5.0)\nBuilding wheels for collected packages: autopep8\n  Building wheel for autopep8 (setup.py) ... \u001b[?25ldone\n\u001b[?25h  Stored in directory: /home/dsxuser/.cache/pip/wheels/b0/b0/ba/2ab847c5da4ba60ba4682ba33fcc0783c956cda5ff22b2037f\nSuccessfully built autopep8\nInstalling collected packages: autopep8, pathlib-mate, uszipcode\nSuccessfully installed autopep8-1.5.2 pathlib-mate-1.0.0 uszipcode-0.2.4\nStart downloading data for simple zipcode database, total size 9MB ...\n  1 MB finished ...\n  2 MB finished ...\n  3 MB finished ...\n  4 MB finished ...\n  5 MB finished ...\n  6 MB finished ...\n  7 MB finished ...\n  8 MB finished ...\n  9 MB finished ...\n  10 MB finished ...\n  Complete!\n"
                },
                {
                    "data": {
                        "text/html": "<div>\n<style scoped>\n    .dataframe tbody tr th:only-of-type {\n        vertical-align: middle;\n    }\n\n    .dataframe tbody tr th {\n        vertical-align: top;\n    }\n\n    .dataframe thead th {\n        text-align: right;\n    }\n</style>\n<table border=\"1\" class=\"dataframe\">\n  <thead>\n    <tr style=\"text-align: right;\">\n      <th></th>\n      <th>Zip Code</th>\n      <th>Neighborhood</th>\n      <th>Latitude</th>\n      <th>Longitude</th>\n    </tr>\n  </thead>\n  <tbody>\n    <tr>\n      <th>3</th>\n      <td>94107</td>\n      <td>Potrero Hill</td>\n      <td>37.77</td>\n      <td>-122.39</td>\n    </tr>\n    <tr>\n      <th>17</th>\n      <td>94127</td>\n      <td>St. Francis Wood/Miraloma/West Portal</td>\n      <td>37.73</td>\n      <td>-122.46</td>\n    </tr>\n    <tr>\n      <th>15</th>\n      <td>94123</td>\n      <td>Marina</td>\n      <td>37.80</td>\n      <td>-122.44</td>\n    </tr>\n    <tr>\n      <th>2</th>\n      <td>94103</td>\n      <td>South of Market</td>\n      <td>37.78</td>\n      <td>-122.41</td>\n    </tr>\n    <tr>\n      <th>19</th>\n      <td>94132</td>\n      <td>Lake Merced</td>\n      <td>37.72</td>\n      <td>-122.48</td>\n    </tr>\n  </tbody>\n</table>\n</div>",
                        "text/plain": "0  Zip Code                           Neighborhood  Latitude  Longitude\n3     94107                           Potrero Hill     37.77    -122.39\n17    94127  St. Francis Wood/Miraloma/West Portal     37.73    -122.46\n15    94123                                 Marina     37.80    -122.44\n2     94103                        South of Market     37.78    -122.41\n19    94132                            Lake Merced     37.72    -122.48"
                    },
                    "execution_count": 5,
                    "metadata": {},
                    "output_type": "execute_result"
                }
            ],
            "source": "!pip install uszipcode\nfrom uszipcode import SearchEngine\n\nsearch = SearchEngine(simple_zipcode=True)\n\nlatitude = []\nlongitude = []\n\nfor index, row in df_sf.iterrows():\n    zipcode = search.by_zipcode(row[\"Zip Code\"]).to_dict()\n    latitude.append(zipcode.get(\"lat\"))\n    longitude.append(zipcode.get(\"lng\"))\n\ndf_sf[\"Latitude\"] = latitude\ndf_sf[\"Longitude\"] = longitude\n\n# Drop any null values\ndf_sf.dropna(inplace=True)\ndf_sf.head()"
        },
        {
            "cell_type": "code",
            "execution_count": 6,
            "metadata": {},
            "outputs": [
                {
                    "ename": "NameError",
                    "evalue": "name 'folium' is not defined",
                    "output_type": "error",
                    "traceback": [
                        "\u001b[0;31m---------------------------------------------------------------------------\u001b[0m",
                        "\u001b[0;31mNameError\u001b[0m                                 Traceback (most recent call last)",
                        "\u001b[0;32m<ipython-input-6-b393a1e060d6>\u001b[0m in \u001b[0;36m<module>\u001b[0;34m\u001b[0m\n\u001b[1;32m      2\u001b[0m \u001b[0mlatitude\u001b[0m \u001b[0;34m=\u001b[0m \u001b[0;36m37.7792808\u001b[0m\u001b[0;34m\u001b[0m\u001b[0;34m\u001b[0m\u001b[0m\n\u001b[1;32m      3\u001b[0m \u001b[0mlongitude\u001b[0m \u001b[0;34m=\u001b[0m \u001b[0;34m-\u001b[0m\u001b[0;36m122.4192363\u001b[0m\u001b[0;34m\u001b[0m\u001b[0;34m\u001b[0m\u001b[0m\n\u001b[0;32m----> 4\u001b[0;31m \u001b[0msf_map\u001b[0m \u001b[0;34m=\u001b[0m \u001b[0mfolium\u001b[0m\u001b[0;34m.\u001b[0m\u001b[0mMap\u001b[0m\u001b[0;34m(\u001b[0m\u001b[0mlocation\u001b[0m \u001b[0;34m=\u001b[0m \u001b[0;34m[\u001b[0m\u001b[0mlatitude\u001b[0m\u001b[0;34m,\u001b[0m \u001b[0mlongitude\u001b[0m\u001b[0;34m]\u001b[0m\u001b[0;34m,\u001b[0m \u001b[0mzoom_start\u001b[0m\u001b[0;34m=\u001b[0m\u001b[0;36m10\u001b[0m\u001b[0;34m)\u001b[0m\u001b[0;34m\u001b[0m\u001b[0;34m\u001b[0m\u001b[0m\n\u001b[0m\u001b[1;32m      5\u001b[0m \u001b[0;34m\u001b[0m\u001b[0m\n\u001b[1;32m      6\u001b[0m \u001b[0;31m# add markers to map\u001b[0m\u001b[0;34m\u001b[0m\u001b[0;34m\u001b[0m\u001b[0;34m\u001b[0m\u001b[0m\n",
                        "\u001b[0;31mNameError\u001b[0m: name 'folium' is not defined"
                    ]
                }
            ],
            "source": "\nlatitude = 37.7792808\nlongitude = -122.4192363\nsf_map = folium.Map(location = [latitude, longitude], zoom_start=10)\n\n# add markers to map\nfor lat, lng, neighborhood in zip(df_sf['Latitude'], df_sf['Longitude'], df_sf['Neighborhood']):\n    label = '{}'.format(neighborhood)\n    label = folium.Popup(label, parse_html = True)\n    folium.CircleMarker(\n        [lat, lng],\n        radius = 5,\n        popup = label,\n        color = 'blue',\n        fill = True,\n        fill_color = '#3186cc',\n        fill_opacity = 0.7,\n        parse_html = False).add_to(sf_map)  \n    \nsf_map"
        },
        {
            "cell_type": "code",
            "execution_count": null,
            "metadata": {},
            "outputs": [],
            "source": ""
        }
    ],
    "metadata": {
        "kernelspec": {
            "display_name": "Python 3.6",
            "language": "python",
            "name": "python3"
        },
        "language_info": {
            "codemirror_mode": {
                "name": "ipython",
                "version": 3
            },
            "file_extension": ".py",
            "mimetype": "text/x-python",
            "name": "python",
            "nbconvert_exporter": "python",
            "pygments_lexer": "ipython3",
            "version": "3.6.9"
        }
    },
    "nbformat": 4,
    "nbformat_minor": 1
}